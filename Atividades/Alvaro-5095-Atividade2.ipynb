{
  "cells": [
    {
      "cell_type": "markdown",
      "metadata": {
        "id": "VKVeuIoh6N-S"
      },
      "source": [
        "> Introdução à Ciência dos Dados \\\n",
        "> Ciência da Computação – UFV/Florestal\n",
        "\n",
        "\n",
        "* **Nome:** Alvaro Gomes\n",
        "* **Matrícula:**  5095\n",
        "\n",
        "# Aula Prática 02\n",
        "##  Estatística Descritiva\n",
        "\n",
        "**Objetivo:** Avaliar dados numéricos com base em cálculos estatísticos \\\n",
        "**Pré-requisitos:** Linguagem de programação Python, estatística básica \\\n",
        "**Meta:** Ao final da prática, o aluno será capaz de utilizar ferramentas de análise de dados para calcular indicadores estatísticos e comparar valores.\n",
        "\n",
        "----"
      ]
    },
    {
      "cell_type": "code",
      "source": [
        "### NÃO REMOVA ESSA CÉLULA! ####\n",
        "!pip install learntools_dados_ufv\n",
        "\n",
        "!wget https://raw.githubusercontent.com/NESPEDUFV/CCF425-resources/master/p2/series.csv\n",
        "!wget https://raw.githubusercontent.com/NESPEDUFV/CCF425-resources/master/p2/altura_homens.csv\n",
        "!wget https://raw.githubusercontent.com/NESPEDUFV/CCF425-resources/master/p2/altura_mulheres.csv"
      ],
      "metadata": {
        "id": "T-n9f0IN7P13",
        "colab": {
          "base_uri": "https://localhost:8080/"
        },
        "outputId": "f56d8a34-2f46-41db-fa43-62dc97f8a690"
      },
      "execution_count": 43,
      "outputs": [
        {
          "output_type": "stream",
          "name": "stdout",
          "text": [
            "Requirement already satisfied: learntools_dados_ufv in /usr/local/lib/python3.10/dist-packages (1.0.13)\n",
            "--2024-03-14 12:09:58--  https://raw.githubusercontent.com/NESPEDUFV/CCF425-resources/master/p2/series.csv\n",
            "Resolving raw.githubusercontent.com (raw.githubusercontent.com)... 185.199.110.133, 185.199.109.133, 185.199.111.133, ...\n",
            "Connecting to raw.githubusercontent.com (raw.githubusercontent.com)|185.199.110.133|:443... connected.\n",
            "HTTP request sent, awaiting response... 200 OK\n",
            "Length: 43 [text/plain]\n",
            "Saving to: ‘series.csv.1’\n",
            "\n",
            "series.csv.1        100%[===================>]      43  --.-KB/s    in 0s      \n",
            "\n",
            "2024-03-14 12:09:58 (1.73 MB/s) - ‘series.csv.1’ saved [43/43]\n",
            "\n",
            "--2024-03-14 12:09:58--  https://raw.githubusercontent.com/NESPEDUFV/CCF425-resources/master/p2/altura_homens.csv\n",
            "Resolving raw.githubusercontent.com (raw.githubusercontent.com)... 185.199.109.133, 185.199.108.133, 185.199.110.133, ...\n",
            "Connecting to raw.githubusercontent.com (raw.githubusercontent.com)|185.199.109.133|:443... connected.\n",
            "HTTP request sent, awaiting response... 200 OK\n",
            "Length: 7000 (6.8K) [text/plain]\n",
            "Saving to: ‘altura_homens.csv.1’\n",
            "\n",
            "altura_homens.csv.1 100%[===================>]   6.84K  --.-KB/s    in 0s      \n",
            "\n",
            "2024-03-14 12:09:58 (41.6 MB/s) - ‘altura_homens.csv.1’ saved [7000/7000]\n",
            "\n",
            "--2024-03-14 12:09:58--  https://raw.githubusercontent.com/NESPEDUFV/CCF425-resources/master/p2/altura_mulheres.csv\n",
            "Resolving raw.githubusercontent.com (raw.githubusercontent.com)... 185.199.111.133, 185.199.110.133, 185.199.109.133, ...\n",
            "Connecting to raw.githubusercontent.com (raw.githubusercontent.com)|185.199.111.133|:443... connected.\n",
            "HTTP request sent, awaiting response... 200 OK\n",
            "Length: 7000 (6.8K) [text/plain]\n",
            "Saving to: ‘altura_mulheres.csv.1’\n",
            "\n",
            "altura_mulheres.csv 100%[===================>]   6.84K  --.-KB/s    in 0s      \n",
            "\n",
            "2024-03-14 12:09:59 (32.9 MB/s) - ‘altura_mulheres.csv.1’ saved [7000/7000]\n",
            "\n"
          ]
        }
      ]
    },
    {
      "cell_type": "code",
      "source": [],
      "metadata": {
        "id": "7a9fg4S1fkgr"
      },
      "execution_count": 43,
      "outputs": []
    },
    {
      "cell_type": "code",
      "execution_count": 44,
      "metadata": {
        "id": "_X9J3UPRX7_6",
        "colab": {
          "base_uri": "https://localhost:8080/"
        },
        "outputId": "9e8c7515-8b8d-4c28-d206-a0fd8ee4403b"
      },
      "outputs": [
        {
          "output_type": "stream",
          "name": "stderr",
          "text": [
            "WARNING:root:Ignoring repeated attempt to bind to globals\n"
          ]
        }
      ],
      "source": [
        "#### Não altere essa célula!!! ####\n",
        "import pandas as pd\n",
        "\n",
        "from learntools_dados_ufv.core import binder; binder.bind(globals())\n",
        "from learntools_dados_ufv.ccf425.pratica_2 import *"
      ]
    },
    {
      "cell_type": "markdown",
      "metadata": {
        "id": "8_kKp1SH6N-Z"
      },
      "source": [
        "# Roteiro\n",
        "\n",
        "## Leitura dos dados\n",
        "Veja os dados do arquivo `series.csv`.\n",
        "\n",
        "Use a opção `squeeze=True` para obter uma Série do arquivo e não um DataFrame (comportamento default)."
      ]
    },
    {
      "cell_type": "code",
      "execution_count": 45,
      "metadata": {
        "id": "HF4kr37Z6N-a",
        "outputId": "f55cf6e1-ce5a-4969-9765-7af7c2e8563a",
        "colab": {
          "base_uri": "https://localhost:8080/"
        }
      },
      "outputs": [
        {
          "output_type": "stream",
          "name": "stderr",
          "text": [
            "<ipython-input-45-1d0382391766>:1: FutureWarning: The squeeze argument has been deprecated and will be removed in a future version. Append .squeeze(\"columns\") to the call to squeeze.\n",
            "\n",
            "\n",
            "  series = pd.read_csv('./series.csv', index_col=False, header=None, squeeze=True)\n"
          ]
        },
        {
          "output_type": "execute_result",
          "data": {
            "text/plain": [
              "0      13\n",
              "1       3\n",
              "2       5\n",
              "3       6\n",
              "4       7\n",
              "5       9\n",
              "6       5\n",
              "7      33\n",
              "8      67\n",
              "9     432\n",
              "10      5\n",
              "11      7\n",
              "12     35\n",
              "13     67\n",
              "14     83\n",
              "15     57\n",
              "16     88\n",
              "Name: 0, dtype: int64"
            ]
          },
          "metadata": {},
          "execution_count": 45
        }
      ],
      "source": [
        "series = pd.read_csv('./series.csv', index_col=False, header=None, squeeze=True)\n",
        "series"
      ]
    },
    {
      "cell_type": "markdown",
      "metadata": {
        "id": "Mw2yyXzu6N-b"
      },
      "source": [
        "## Explore os dados com base em estatísticas descritivas"
      ]
    },
    {
      "cell_type": "code",
      "execution_count": 46,
      "metadata": {
        "id": "g-dv3GAy6N-b",
        "outputId": "6be0c987-9e7b-4dcc-a524-55ee602b25e5",
        "colab": {
          "base_uri": "https://localhost:8080/"
        }
      },
      "outputs": [
        {
          "output_type": "stream",
          "name": "stdout",
          "text": [
            "O valor mínimo é: 3\n",
            "O valor máximo é: 432\n",
            "O valor da média é: 54.24\n",
            "O valor do desvio padrão é: 101.94\n",
            "A moda é: 0    5\n",
            "Name: 0, dtype: int64\n"
          ]
        }
      ],
      "source": [
        "# Mínimo\n",
        "print('O valor mínimo é: {}'.format(series.min()))\n",
        "\n",
        "# Máximo\n",
        "print('O valor máximo é: {}'.format(series.max()))\n",
        "\n",
        "# Média\n",
        "print('O valor da média é: {:.2f}'.format(series.mean()))\n",
        "\n",
        "# Desvio Padrão\n",
        "print('O valor do desvio padrão é: {:.2f}'.format(series.std()))\n",
        "\n",
        "# Moda\n",
        "print('A moda é: {}'.format(series.mode()))"
      ]
    },
    {
      "cell_type": "markdown",
      "metadata": {
        "id": "ey3yYAH46N-c"
      },
      "source": [
        "## Calcule os percentis"
      ]
    },
    {
      "cell_type": "code",
      "execution_count": 47,
      "metadata": {
        "id": "Zk2egrJu6N-c",
        "outputId": "43a24e1f-f11b-4ac7-f216-4d1cf76b6ca5",
        "colab": {
          "base_uri": "https://localhost:8080/"
        }
      },
      "outputs": [
        {
          "output_type": "stream",
          "name": "stdout",
          "text": [
            "Percentil 25: 6.00\n",
            "Percentil 50: 13.00\n",
            "Percentil 75: 67.00\n",
            "Percentil 95: 156.80\n"
          ]
        }
      ],
      "source": [
        "# Percentil 25 (1º quartil)\n",
        "print('Percentil 25: {:.2f}'.format(series.quantile(.25)))\n",
        "\n",
        "# Percentil 50 (2º quartil ou mediana)\n",
        "print('Percentil 50: {:.2f}'.format(series.quantile(.50)))\n",
        "\n",
        "# Percentil 75 (3º quartil)\n",
        "print('Percentil 75: {:.2f}'.format(series.quantile(.75)))\n",
        "\n",
        "# Percentil 95\n",
        "print('Percentil 95: {:.2f}'.format(series.quantile(.95)))"
      ]
    },
    {
      "cell_type": "markdown",
      "metadata": {
        "id": "iwYIAbay6N-d"
      },
      "source": [
        "## Calcule a tablea de frequências"
      ]
    },
    {
      "cell_type": "code",
      "execution_count": 48,
      "metadata": {
        "id": "TExAAgdU6N-d",
        "outputId": "eaa95554-c450-4306-f1ee-284e3fe67357",
        "colab": {
          "base_uri": "https://localhost:8080/"
        }
      },
      "outputs": [
        {
          "output_type": "execute_result",
          "data": {
            "text/plain": [
              "5      3\n",
              "7      2\n",
              "67     2\n",
              "13     1\n",
              "3      1\n",
              "6      1\n",
              "9      1\n",
              "33     1\n",
              "432    1\n",
              "35     1\n",
              "83     1\n",
              "57     1\n",
              "88     1\n",
              "Name: 0, dtype: int64"
            ]
          },
          "metadata": {},
          "execution_count": 48
        }
      ],
      "source": [
        "series.value_counts()"
      ]
    },
    {
      "cell_type": "markdown",
      "metadata": {
        "id": "hvJMH0Rr6N-e"
      },
      "source": [
        "# Exercícios"
      ]
    },
    {
      "cell_type": "markdown",
      "metadata": {
        "id": "3LWiNtDCX7_7"
      },
      "source": [
        "## 1. Leia os arquivos `altura_homens.csv` e `altura_mulheres.csv`\n",
        "Esses arquivos contém as alturas (em cm) de 1000 homens e 1000 mulheres, respectivamente. \\\n",
        "Leia os arquivos e salve-os em uma variável contendo uma série Pandas com os dados respectivos.\n",
        "\n",
        "Armazene-os nas variáveis `men_height_series` e `women_height_series` respectivamente.\n",
        "\n",
        "Chame a função `q1.check()` no fim da célula para verificar a resposta.\n",
        "Você pode pedir dicas com `q1.hint()`"
      ]
    },
    {
      "cell_type": "code",
      "execution_count": 49,
      "metadata": {
        "id": "hbkmyaDU6N-f",
        "colab": {
          "base_uri": "https://localhost:8080/",
          "height": 868
        },
        "outputId": "a7f65ff0-7c5c-404c-8b0b-13bf8cb16201"
      },
      "outputs": [
        {
          "output_type": "display_data",
          "data": {
            "text/plain": [
              "<IPython.core.display.Javascript object>"
            ],
            "application/javascript": [
              "parent.postMessage({\"jupyterEvent\": \"custom.exercise_interaction\", \"data\": {\"interactionType\": 2, \"questionType\": 2, \"questionId\": \"1_Q1\", \"learnToolsVersion\": \"1.0.13\", \"valueTowardsCompletion\": 0.0, \"failureMessage\": \"\", \"exceptionClass\": \"\", \"trace\": \"\", \"outcomeType\": 4}}, \"*\")"
            ]
          },
          "metadata": {}
        },
        {
          "output_type": "display_data",
          "data": {
            "text/plain": [
              "Dica: Utilize a função `pd.Series` com o caminho dos arquivos `altura_homens.csv` e `altura_mulheres.csv`. Note que não há cabeçalhos no arquivo."
            ],
            "text/markdown": "<span style=\"color:#3366cc\">Dica:</span> Utilize a função `pd.Series` com o caminho dos arquivos `altura_homens.csv` e `altura_mulheres.csv`. Note que não há cabeçalhos no arquivo."
          },
          "metadata": {}
        },
        {
          "output_type": "stream",
          "name": "stdout",
          "text": [
            "Dados dos homens:\n"
          ]
        },
        {
          "output_type": "stream",
          "name": "stderr",
          "text": [
            "<ipython-input-49-04aae0195052>:3: FutureWarning: The squeeze argument has been deprecated and will be removed in a future version. Append .squeeze(\"columns\") to the call to squeeze.\n",
            "\n",
            "\n",
            "  men_height_series = pd.read_csv('./altura_homens.csv', header=None, squeeze=True)\n",
            "<ipython-input-49-04aae0195052>:4: FutureWarning: The squeeze argument has been deprecated and will be removed in a future version. Append .squeeze(\"columns\") to the call to squeeze.\n",
            "\n",
            "\n",
            "  women_height_series = pd.read_csv('./altura_mulheres.csv', header=None, squeeze=True)\n"
          ]
        },
        {
          "output_type": "display_data",
          "data": {
            "text/plain": [
              "0      185.24\n",
              "1      172.64\n",
              "2      161.96\n",
              "3      163.68\n",
              "4      156.02\n",
              "        ...  \n",
              "995    171.91\n",
              "996    181.22\n",
              "997    162.80\n",
              "998    174.02\n",
              "999    163.19\n",
              "Name: 0, Length: 1000, dtype: float64"
            ]
          },
          "metadata": {}
        },
        {
          "output_type": "stream",
          "name": "stdout",
          "text": [
            "Dados das mulheres:\n"
          ]
        },
        {
          "output_type": "display_data",
          "data": {
            "text/plain": [
              "0      162.14\n",
              "1      146.68\n",
              "2      159.95\n",
              "3      171.98\n",
              "4      139.35\n",
              "        ...  \n",
              "995    161.83\n",
              "996    161.63\n",
              "997    162.94\n",
              "998    167.84\n",
              "999    149.25\n",
              "Name: 0, Length: 1000, dtype: float64"
            ]
          },
          "metadata": {}
        },
        {
          "output_type": "stream",
          "name": "stderr",
          "text": [
            "/usr/local/lib/python3.10/dist-packages/learntools_dados_ufv/ccf425/pratica_2.py:15: FutureWarning: The squeeze argument has been deprecated and will be removed in a future version. Append .squeeze(\"columns\") to the call to squeeze.\n",
            "\n",
            "\n",
            "  assert_series_equals(men_height_series, pd.read_csv('./altura_homens.csv', header=None, squeeze=True), name='men_height_series')\n",
            "/usr/local/lib/python3.10/dist-packages/learntools_dados_ufv/ccf425/pratica_2.py:17: FutureWarning: The squeeze argument has been deprecated and will be removed in a future version. Append .squeeze(\"columns\") to the call to squeeze.\n",
            "\n",
            "\n",
            "  assert_series_equals(women_height_series, pd.read_csv('./altura_mulheres.csv', header=None, squeeze=True), name='women_height_series')\n"
          ]
        },
        {
          "output_type": "display_data",
          "data": {
            "text/plain": [
              "<IPython.core.display.Javascript object>"
            ],
            "application/javascript": [
              "parent.postMessage({\"jupyterEvent\": \"custom.exercise_interaction\", \"data\": {\"outcomeType\": 1, \"valueTowardsCompletion\": 0.06666666666666667, \"interactionType\": 1, \"questionType\": 2, \"questionId\": \"1_Q1\", \"learnToolsVersion\": \"1.0.13\", \"failureMessage\": \"\", \"exceptionClass\": \"\", \"trace\": \"\"}}, \"*\")"
            ]
          },
          "metadata": {}
        },
        {
          "output_type": "display_data",
          "data": {
            "text/plain": [
              "CORRETO: \n"
            ],
            "text/markdown": "<span style=\"color:#33cc33\">CORRETO:</span> \n\n"
          },
          "metadata": {}
        }
      ],
      "source": [
        "q1.hint()\n",
        "\n",
        "men_height_series = pd.read_csv('./altura_homens.csv', header=None, squeeze=True)\n",
        "women_height_series = pd.read_csv('./altura_mulheres.csv', header=None, squeeze=True)\n",
        "\n",
        "print('Dados dos homens:')\n",
        "display(men_height_series)\n",
        "\n",
        "print('Dados das mulheres:')\n",
        "display(women_height_series)\n",
        "\n",
        "q1.check()"
      ]
    },
    {
      "cell_type": "markdown",
      "metadata": {
        "id": "4l1slkIq6N-f"
      },
      "source": [
        "## 2. Recupere a altura mínima e máxima dos homens e das mulheres dessas amostras.\n",
        "Armazene a altura mínima e máxixma dos homens nas variáveis `men_min_height` e `men_max_height`, respectivamente. \\\n",
        "Armazene a altura mínima e máxixma das mulheres nas variáveis `women_min_height` e `women_max_height`, respectivamente.\n",
        "\n",
        "Chame a função `q2.check()` no fim da célula para verificar a resposta.\n",
        "Você pode pedir dicas com `q2.hint()`"
      ]
    },
    {
      "cell_type": "code",
      "execution_count": 50,
      "metadata": {
        "id": "zIpFkHRm6N-f",
        "colab": {
          "base_uri": "https://localhost:8080/",
          "height": 120
        },
        "outputId": "fa1b5feb-3b7c-4cfd-b188-9c36fc5e9074"
      },
      "outputs": [
        {
          "output_type": "stream",
          "name": "stdout",
          "text": [
            "A altura mínima dos homens é: 120.05\n",
            "A altura máxima dos homens é: 221.00\n",
            "A altura mínima das mulheres é: 132.82\n",
            "A altura máxima das mulheres é: 190.30\n"
          ]
        },
        {
          "output_type": "display_data",
          "data": {
            "text/plain": [
              "<IPython.core.display.Javascript object>"
            ],
            "application/javascript": [
              "parent.postMessage({\"jupyterEvent\": \"custom.exercise_interaction\", \"data\": {\"outcomeType\": 1, \"valueTowardsCompletion\": 0.06666666666666667, \"interactionType\": 1, \"questionType\": 2, \"questionId\": \"2_Q2\", \"learnToolsVersion\": \"1.0.13\", \"failureMessage\": \"\", \"exceptionClass\": \"\", \"trace\": \"\"}}, \"*\")"
            ]
          },
          "metadata": {}
        },
        {
          "output_type": "display_data",
          "data": {
            "text/plain": [
              "CORRETO: \n"
            ],
            "text/markdown": "<span style=\"color:#33cc33\">CORRETO:</span> \n\n"
          },
          "metadata": {}
        }
      ],
      "source": [
        "# q2.hint()\n",
        "\n",
        "men_min_height = men_height_series.min()\n",
        "men_max_height = men_height_series.max()\n",
        "women_min_height = women_height_series.min()\n",
        "women_max_height = women_height_series.max()\n",
        "\n",
        "print('A altura mínima dos homens é: {:.2f}'.format(men_min_height))\n",
        "print('A altura máxima dos homens é: {:.2f}'.format(men_max_height))\n",
        "\n",
        "print('A altura mínima das mulheres é: {:.2f}'.format(women_min_height))\n",
        "print('A altura máxima das mulheres é: {:.2f}'.format(women_max_height))\n",
        "\n",
        "q2.check()"
      ]
    },
    {
      "cell_type": "markdown",
      "metadata": {
        "id": "yR1mnJTd6N-g"
      },
      "source": [
        "## 3. Recupere a média de altura dos homens e das mulheres.\n",
        "Armazene-as nas variáveis `men_mean_height` e `women_mean_height`, respectivamente.\n",
        "\n",
        "Chame a função `q3.check()` no fim da célula para verificar a resposta.\n",
        "Você pode pedir dicas com `q3.hint()`"
      ]
    },
    {
      "cell_type": "code",
      "execution_count": 51,
      "metadata": {
        "id": "rxN-qiF46N-g",
        "colab": {
          "base_uri": "https://localhost:8080/",
          "height": 83
        },
        "outputId": "94cbd0f8-7d2b-4f92-cefe-a59b8c04de08"
      },
      "outputs": [
        {
          "output_type": "stream",
          "name": "stdout",
          "text": [
            "A altura média dos homens é: 175.06\n",
            "A altura média das mulheres é: 175.06\n"
          ]
        },
        {
          "output_type": "display_data",
          "data": {
            "text/plain": [
              "<IPython.core.display.Javascript object>"
            ],
            "application/javascript": [
              "parent.postMessage({\"jupyterEvent\": \"custom.exercise_interaction\", \"data\": {\"outcomeType\": 1, \"valueTowardsCompletion\": 0.06666666666666667, \"interactionType\": 1, \"questionType\": 2, \"questionId\": \"3_Q3\", \"learnToolsVersion\": \"1.0.13\", \"failureMessage\": \"\", \"exceptionClass\": \"\", \"trace\": \"\"}}, \"*\")"
            ]
          },
          "metadata": {}
        },
        {
          "output_type": "display_data",
          "data": {
            "text/plain": [
              "CORRETO: \n"
            ],
            "text/markdown": "<span style=\"color:#33cc33\">CORRETO:</span> \n\n"
          },
          "metadata": {}
        }
      ],
      "source": [
        "# q3.hint()\n",
        "\n",
        "men_mean_height = men_height_series.mean()\n",
        "women_mean_height = women_height_series.mean()\n",
        "\n",
        "print('A altura média dos homens é: {:.2f}'.format(men_mean_height))\n",
        "print('A altura média das mulheres é: {:.2f}'.format(men_mean_height))\n",
        "\n",
        "q3.check()"
      ]
    },
    {
      "cell_type": "markdown",
      "metadata": {
        "id": "iUj-JKtH6N-h"
      },
      "source": [
        "## 4. Recupere a mediana de altura dos homens e das mulheres\n",
        "Armazene-as nas variáveis `men_median_height` e `women_median_height`, respectivamente.\n",
        "\n",
        "Chame a função `q4.check()` no fim da célula para verificar a resposta.\n",
        "Você pode pedir dicas com `q4.hint()`"
      ]
    },
    {
      "cell_type": "code",
      "execution_count": 52,
      "metadata": {
        "id": "gXpBOkD16N-h",
        "colab": {
          "base_uri": "https://localhost:8080/",
          "height": 83
        },
        "outputId": "2c9996ff-f7aa-42f2-9d4b-e68d7278715e"
      },
      "outputs": [
        {
          "output_type": "stream",
          "name": "stdout",
          "text": [
            "O valor da mediana da altura dos homens é: 174.57\n",
            "O valor da mediana da altura das mulheres é: 160.06\n"
          ]
        },
        {
          "output_type": "display_data",
          "data": {
            "text/plain": [
              "<IPython.core.display.Javascript object>"
            ],
            "application/javascript": [
              "parent.postMessage({\"jupyterEvent\": \"custom.exercise_interaction\", \"data\": {\"outcomeType\": 1, \"valueTowardsCompletion\": 0.06666666666666667, \"interactionType\": 1, \"questionType\": 2, \"questionId\": \"4_Q4\", \"learnToolsVersion\": \"1.0.13\", \"failureMessage\": \"\", \"exceptionClass\": \"\", \"trace\": \"\"}}, \"*\")"
            ]
          },
          "metadata": {}
        },
        {
          "output_type": "display_data",
          "data": {
            "text/plain": [
              "CORRETO: \n"
            ],
            "text/markdown": "<span style=\"color:#33cc33\">CORRETO:</span> \n\n"
          },
          "metadata": {}
        }
      ],
      "source": [
        "# q4.hint()\n",
        "\n",
        "men_median_height = men_height_series.median()\n",
        "women_median_height = women_height_series.median()\n",
        "\n",
        "print('O valor da mediana da altura dos homens é: {:.2f}'.format(men_median_height))\n",
        "print('O valor da mediana da altura das mulheres é: {:.2f}'.format(women_median_height))\n",
        "\n",
        "q4.check()"
      ]
    },
    {
      "cell_type": "markdown",
      "metadata": {
        "id": "NG4vw_Mq6N-h"
      },
      "source": [
        "## 5. Recupere o desvio padrão da altura dos homens e das mulheres\n",
        "Armazene-os nas variáveis `men_std_height` e `women_std_height`, respectivamente.\n",
        "\n",
        "Chame a função `q5.check()` no fim da célula para verificar a resposta.\n",
        "Você pode pedir dicas com `q5.hint()`"
      ]
    },
    {
      "cell_type": "code",
      "execution_count": 53,
      "metadata": {
        "id": "L6RQAmL06N-h",
        "colab": {
          "base_uri": "https://localhost:8080/",
          "height": 83
        },
        "outputId": "6a427896-10af-4115-e646-4645d9585c51"
      },
      "outputs": [
        {
          "output_type": "stream",
          "name": "stdout",
          "text": [
            "O valor do desvio padrão da altura dos homens é: 15.33\n",
            "O valor do desvio padrão da altura das mulheres é: 9.70\n"
          ]
        },
        {
          "output_type": "display_data",
          "data": {
            "text/plain": [
              "<IPython.core.display.Javascript object>"
            ],
            "application/javascript": [
              "parent.postMessage({\"jupyterEvent\": \"custom.exercise_interaction\", \"data\": {\"outcomeType\": 1, \"valueTowardsCompletion\": 0.06666666666666667, \"interactionType\": 1, \"questionType\": 2, \"questionId\": \"5_Q5\", \"learnToolsVersion\": \"1.0.13\", \"failureMessage\": \"\", \"exceptionClass\": \"\", \"trace\": \"\"}}, \"*\")"
            ]
          },
          "metadata": {}
        },
        {
          "output_type": "display_data",
          "data": {
            "text/plain": [
              "CORRETO: \n"
            ],
            "text/markdown": "<span style=\"color:#33cc33\">CORRETO:</span> \n\n"
          },
          "metadata": {}
        }
      ],
      "source": [
        "# q5.hint()\n",
        "\n",
        "men_std_height = men_height_series.std()\n",
        "women_std_height = women_height_series.std()\n",
        "\n",
        "print('O valor do desvio padrão da altura dos homens é: {:.2f}'.format(men_std_height))\n",
        "print('O valor do desvio padrão da altura das mulheres é: {:.2f}'.format(women_std_height))\n",
        "\n",
        "q5.check()"
      ]
    },
    {
      "cell_type": "markdown",
      "metadata": {
        "id": "q1LPxmkH6N-i"
      },
      "source": [
        "## 6. Recupere o percentual de homens com altura menor que 160cm\n",
        "Armazene-o na variável `men_shorter_160cm_perc`.\n",
        "\n",
        "Chame a função `q6.check()` no fim da célula para verificar a resposta.\n",
        "Você pode pedir dicas com `q6.hint(n)` onde n é o número da dica."
      ]
    },
    {
      "cell_type": "code",
      "execution_count": 54,
      "metadata": {
        "id": "-_mMFHCH6N-i",
        "colab": {
          "base_uri": "https://localhost:8080/",
          "height": 95
        },
        "outputId": "19377577-8720-4beb-cd03-b83c5e45ed7d"
      },
      "outputs": [
        {
          "output_type": "display_data",
          "data": {
            "text/plain": [
              "<IPython.core.display.Javascript object>"
            ],
            "application/javascript": [
              "parent.postMessage({\"jupyterEvent\": \"custom.exercise_interaction\", \"data\": {\"interactionType\": 2, \"questionType\": 2, \"questionId\": \"6_Q6\", \"learnToolsVersion\": \"1.0.13\", \"valueTowardsCompletion\": 0.0, \"failureMessage\": \"\", \"exceptionClass\": \"\", \"trace\": \"\", \"outcomeType\": 4}}, \"*\")"
            ]
          },
          "metadata": {}
        },
        {
          "output_type": "display_data",
          "data": {
            "text/plain": [
              "Dica 2: Divida o total filtrado pelo total da base para ter a proporção\n",
              "(Para outra dica, chame `.hint(3)`)"
            ],
            "text/markdown": "<span style=\"color:#3366cc\">Dica 2:</span> Divida o total filtrado pelo total da base para ter a proporção\n(Para outra dica, chame `.hint(3)`)"
          },
          "metadata": {}
        },
        {
          "output_type": "stream",
          "name": "stdout",
          "text": [
            "15.6\n"
          ]
        },
        {
          "output_type": "display_data",
          "data": {
            "text/plain": [
              "<IPython.core.display.Javascript object>"
            ],
            "application/javascript": [
              "parent.postMessage({\"jupyterEvent\": \"custom.exercise_interaction\", \"data\": {\"outcomeType\": 1, \"valueTowardsCompletion\": 0.06666666666666667, \"interactionType\": 1, \"questionType\": 2, \"questionId\": \"6_Q6\", \"learnToolsVersion\": \"1.0.13\", \"failureMessage\": \"\", \"exceptionClass\": \"\", \"trace\": \"\"}}, \"*\")"
            ]
          },
          "metadata": {}
        },
        {
          "output_type": "display_data",
          "data": {
            "text/plain": [
              "CORRETO: \n"
            ],
            "text/markdown": "<span style=\"color:#33cc33\">CORRETO:</span> \n\n"
          },
          "metadata": {}
        }
      ],
      "source": [
        "# q6.hint()\n",
        "q6.hint(2)\n",
        "\n",
        "men_shorter_160cm_perc = men_height_series.loc[men_height_series < 160]\n",
        "men_shorter_160cm_perc = len(men_shorter_160cm_perc) / len(men_height_series) * 100\n",
        "print(men_shorter_160cm_perc)\n",
        "\n",
        "q6.check()"
      ]
    },
    {
      "cell_type": "markdown",
      "metadata": {
        "id": "c55mkSbN6N-i"
      },
      "source": [
        "## 7. Recupere o percentual de mulheres com altura maior que 180cm\n",
        "Armazene-o na variável `women_taller_180cm_perc`.\n",
        "\n",
        "Chame a função `q7.check()` no fim da célula para verificar a resposta.\n",
        "Você pode pedir dicas com `q7.hint(n)` onde n é o número da dica."
      ]
    },
    {
      "cell_type": "code",
      "execution_count": 55,
      "metadata": {
        "id": "QOhd5ItC6N-j",
        "colab": {
          "base_uri": "https://localhost:8080/",
          "height": 65
        },
        "outputId": "a7469fcc-fc5f-4743-b0ae-0ff2f6c29d90"
      },
      "outputs": [
        {
          "output_type": "stream",
          "name": "stdout",
          "text": [
            "2.4\n"
          ]
        },
        {
          "output_type": "display_data",
          "data": {
            "text/plain": [
              "<IPython.core.display.Javascript object>"
            ],
            "application/javascript": [
              "parent.postMessage({\"jupyterEvent\": \"custom.exercise_interaction\", \"data\": {\"outcomeType\": 1, \"valueTowardsCompletion\": 0.06666666666666667, \"interactionType\": 1, \"questionType\": 2, \"questionId\": \"7_Q7\", \"learnToolsVersion\": \"1.0.13\", \"failureMessage\": \"\", \"exceptionClass\": \"\", \"trace\": \"\"}}, \"*\")"
            ]
          },
          "metadata": {}
        },
        {
          "output_type": "display_data",
          "data": {
            "text/plain": [
              "CORRETO: \n"
            ],
            "text/markdown": "<span style=\"color:#33cc33\">CORRETO:</span> \n\n"
          },
          "metadata": {}
        }
      ],
      "source": [
        "# q7.hint()\n",
        "\n",
        "women_taller_180cm_perc = women_height_series.loc[women_height_series > 180]\n",
        "women_taller_180cm_perc = len(women_taller_180cm_perc) / len(women_height_series) * 100\n",
        "print(women_taller_180cm_perc)\n",
        "\n",
        "q7.check()"
      ]
    },
    {
      "cell_type": "markdown",
      "metadata": {
        "id": "xSwdN_-m6N-j"
      },
      "source": [
        "## 8. Um homem com altura 185cm está em qual percentil?\n",
        "Armazene a resposta na variável `men_185cm_percentile`.\n",
        "\n",
        "Chame a função `q8.check()` no fim da célula para verificar a resposta.\n",
        "Você pode pedir dicas com `q8.hint(n)` onde n é o número da dica."
      ]
    },
    {
      "cell_type": "code",
      "execution_count": 56,
      "metadata": {
        "id": "4TNFrDoU6N-j",
        "colab": {
          "base_uri": "https://localhost:8080/",
          "height": 65
        },
        "outputId": "ffaa7d5d-5212-4aac-dde8-9bb8d331b609"
      },
      "outputs": [
        {
          "output_type": "stream",
          "name": "stdout",
          "text": [
            "73.9\n"
          ]
        },
        {
          "output_type": "display_data",
          "data": {
            "text/plain": [
              "<IPython.core.display.Javascript object>"
            ],
            "application/javascript": [
              "parent.postMessage({\"jupyterEvent\": \"custom.exercise_interaction\", \"data\": {\"outcomeType\": 1, \"valueTowardsCompletion\": 0.06666666666666667, \"interactionType\": 1, \"questionType\": 2, \"questionId\": \"8_Q8\", \"learnToolsVersion\": \"1.0.13\", \"failureMessage\": \"\", \"exceptionClass\": \"\", \"trace\": \"\"}}, \"*\")"
            ]
          },
          "metadata": {}
        },
        {
          "output_type": "display_data",
          "data": {
            "text/plain": [
              "CORRETO: \n"
            ],
            "text/markdown": "<span style=\"color:#33cc33\">CORRETO:</span> \n\n"
          },
          "metadata": {}
        }
      ],
      "source": [
        "# q8.hint(2)\n",
        "from scipy import stats\n",
        "\n",
        "men_185cm_percentile = stats.percentileofscore(men_height_series, 185)\n",
        "print(men_185cm_percentile)\n",
        "\n",
        "q8.check()"
      ]
    },
    {
      "cell_type": "markdown",
      "metadata": {
        "id": "BbQPQ7w86N-j"
      },
      "source": [
        "## 9. Uma mulher com altura 150cm está em qual percentil?\n",
        "Armazene a resposta na variável `women_150cm_percentile`.\n",
        "\n",
        "Chame a função `q9.check()` no fim da célula para verificar a resposta.\n",
        "Você pode pedir dicas com `q9.hint(n)` onde n é o número da dica."
      ]
    },
    {
      "cell_type": "code",
      "execution_count": 57,
      "metadata": {
        "id": "geFe-w0W6N-j",
        "colab": {
          "base_uri": "https://localhost:8080/",
          "height": 65
        },
        "outputId": "27f2b562-0195-401f-d9c9-d6e1ca0e34e4"
      },
      "outputs": [
        {
          "output_type": "stream",
          "name": "stdout",
          "text": [
            "14.600000000000001\n"
          ]
        },
        {
          "output_type": "display_data",
          "data": {
            "text/plain": [
              "<IPython.core.display.Javascript object>"
            ],
            "application/javascript": [
              "parent.postMessage({\"jupyterEvent\": \"custom.exercise_interaction\", \"data\": {\"outcomeType\": 1, \"valueTowardsCompletion\": 0.06666666666666667, \"interactionType\": 1, \"questionType\": 2, \"questionId\": \"9_Q9\", \"learnToolsVersion\": \"1.0.13\", \"failureMessage\": \"\", \"exceptionClass\": \"\", \"trace\": \"\"}}, \"*\")"
            ]
          },
          "metadata": {}
        },
        {
          "output_type": "display_data",
          "data": {
            "text/plain": [
              "CORRETO: \n"
            ],
            "text/markdown": "<span style=\"color:#33cc33\">CORRETO:</span> \n\n"
          },
          "metadata": {}
        }
      ],
      "source": [
        "# q9.hint()\n",
        "from scipy import stats\n",
        "\n",
        "women_150cm_percentile = stats.percentileofscore(women_height_series, 150)\n",
        "print(women_150cm_percentile)\n",
        "\n",
        "q9.check()"
      ]
    },
    {
      "cell_type": "markdown",
      "metadata": {
        "id": "2zHbXl136N-k"
      },
      "source": [
        "## 10. Quais as três alturas de homens que são as mais frequentes? Quantos homens possuem, no total, essas alturas?\n",
        "Armazene a resposta das perguntas nas variáveis `men_top3_height` e `men_in_top3_height` respectivamente.\n",
        "\n",
        "Chame a função `q10.check()` no fim da célula para verificar a resposta.\n",
        "Você pode pedir dicas com `q10.hint(n)` onde n é o número da dica."
      ]
    },
    {
      "cell_type": "code",
      "execution_count": 58,
      "metadata": {
        "id": "W8J2Sjv2X7_7",
        "colab": {
          "base_uri": "https://localhost:8080/",
          "height": 225
        },
        "outputId": "b3c04c69-a6c9-4721-8fda-317ad98cd527"
      },
      "outputs": [
        {
          "output_type": "display_data",
          "data": {
            "text/plain": [
              "<IPython.core.display.Javascript object>"
            ],
            "application/javascript": [
              "parent.postMessage({\"jupyterEvent\": \"custom.exercise_interaction\", \"data\": {\"interactionType\": 2, \"questionType\": 2, \"questionId\": \"10_Q10\", \"learnToolsVersion\": \"1.0.13\", \"valueTowardsCompletion\": 0.0, \"failureMessage\": \"\", \"exceptionClass\": \"\", \"trace\": \"\", \"outcomeType\": 4}}, \"*\")"
            ]
          },
          "metadata": {}
        },
        {
          "output_type": "display_data",
          "data": {
            "text/plain": [
              "Dica 3: Pesquise sobre a função `iloc` da classe Series do Pandas\n",
              "(Para outra dica, chame `.hint(4)`)"
            ],
            "text/markdown": "<span style=\"color:#3366cc\">Dica 3:</span> Pesquise sobre a função `iloc` da classe Series do Pandas\n(Para outra dica, chame `.hint(4)`)"
          },
          "metadata": {}
        },
        {
          "output_type": "stream",
          "name": "stdout",
          "text": [
            "As alturas mais frequentes dos homens são:  169.97    3\n",
            "174.38    3\n",
            "169.17    3\n",
            "Name: 0, dtype: int64\n",
            "A quantidade de homens que possuem essas alturas são:  9\n"
          ]
        },
        {
          "output_type": "stream",
          "name": "stderr",
          "text": [
            "/usr/local/lib/python3.10/dist-packages/learntools_dados_ufv/ccf425/pratica_2.py:194: FutureWarning: iteritems is deprecated and will be removed in a future version. Use .items instead.\n",
            "  for i, _row in men_top3_height.iteritems():\n"
          ]
        },
        {
          "output_type": "display_data",
          "data": {
            "text/plain": [
              "<IPython.core.display.Javascript object>"
            ],
            "application/javascript": [
              "parent.postMessage({\"jupyterEvent\": \"custom.exercise_interaction\", \"data\": {\"outcomeType\": 1, \"valueTowardsCompletion\": 0.06666666666666667, \"interactionType\": 1, \"questionType\": 2, \"questionId\": \"10_Q10\", \"learnToolsVersion\": \"1.0.13\", \"failureMessage\": \"\", \"exceptionClass\": \"\", \"trace\": \"\"}}, \"*\")"
            ]
          },
          "metadata": {}
        },
        {
          "output_type": "display_data",
          "data": {
            "text/plain": [
              "CORRETO: \n"
            ],
            "text/markdown": "<span style=\"color:#33cc33\">CORRETO:</span> \n\n"
          },
          "metadata": {}
        }
      ],
      "source": [
        "q10.hint(3)\n",
        "\n",
        "value = men_height_series.value_counts().head(3)\n",
        "# print(value.sum())\n",
        "\n",
        "men_top3_height = value\n",
        "men_in_top3_height = int(value.sum())\n",
        "\n",
        "print('As alturas mais frequentes dos homens são: ', men_top3_height)\n",
        "print('A quantidade de homens que possuem essas alturas são: ', men_in_top3_height)\n",
        "\n",
        "q10.check()"
      ]
    },
    {
      "cell_type": "markdown",
      "metadata": {
        "id": "l6UIY12o6N-k"
      },
      "source": [
        "## 11. Uma mulher com altura 185cm está distante quantos desvios padrões da média das mulheres? E uma de 145cm?\n",
        "Armazene as respostas das perguntas nas variáveis `women_185cm_std_distance` e `women_145cm_std_distance` respectivamente.\n",
        "\n",
        "Chame a função `q11.check()` no fim da célula para verificar a resposta.\n",
        "Você pode pedir dicas com `q11.hint(n)` onde n é o número da dica."
      ]
    },
    {
      "cell_type": "code",
      "execution_count": 59,
      "metadata": {
        "id": "-OGk4gRy6N-k",
        "colab": {
          "base_uri": "https://localhost:8080/",
          "height": 113
        },
        "outputId": "fc2ed3a2-0b0d-43fb-8c92-9f7cb72fbc57"
      },
      "outputs": [
        {
          "output_type": "display_data",
          "data": {
            "text/plain": [
              "<IPython.core.display.Javascript object>"
            ],
            "application/javascript": [
              "parent.postMessage({\"jupyterEvent\": \"custom.exercise_interaction\", \"data\": {\"interactionType\": 2, \"questionType\": 2, \"questionId\": \"11_Q11\", \"learnToolsVersion\": \"1.0.13\", \"valueTowardsCompletion\": 0.0, \"failureMessage\": \"\", \"exceptionClass\": \"\", \"trace\": \"\", \"outcomeType\": 4}}, \"*\")"
            ]
          },
          "metadata": {}
        },
        {
          "output_type": "display_data",
          "data": {
            "text/plain": [
              "Dica 2: Pesquise sobre a função `mean` da classe Series do Pandas para extrair a média"
            ],
            "text/markdown": "<span style=\"color:#3366cc\">Dica 2:</span> Pesquise sobre a função `mean` da classe Series do Pandas para extrair a média"
          },
          "metadata": {}
        },
        {
          "output_type": "stream",
          "name": "stdout",
          "text": [
            "A quantidade de desvios padrões distante da média de uma mulher de 185cm é:  2.56469508678217\n",
            "A quantidade de desvios padrões distante da média de uma mulher de 145cm é:  1.5580637393733234\n"
          ]
        },
        {
          "output_type": "display_data",
          "data": {
            "text/plain": [
              "<IPython.core.display.Javascript object>"
            ],
            "application/javascript": [
              "parent.postMessage({\"jupyterEvent\": \"custom.exercise_interaction\", \"data\": {\"outcomeType\": 1, \"valueTowardsCompletion\": 0.06666666666666667, \"interactionType\": 1, \"questionType\": 2, \"questionId\": \"11_Q11\", \"learnToolsVersion\": \"1.0.13\", \"failureMessage\": \"\", \"exceptionClass\": \"\", \"trace\": \"\"}}, \"*\")"
            ]
          },
          "metadata": {}
        },
        {
          "output_type": "display_data",
          "data": {
            "text/plain": [
              "CORRETO: \n"
            ],
            "text/markdown": "<span style=\"color:#33cc33\">CORRETO:</span> \n\n"
          },
          "metadata": {}
        }
      ],
      "source": [
        "q11.hint(2)\n",
        "\n",
        "women_185 = abs(185 - women_mean_height)\n",
        "women_185 = abs(women_185 / women_std_height)\n",
        "women_145 = abs(145 - women_mean_height)\n",
        "women_145 = abs(women_145 / women_std_height)\n",
        "\n",
        "women_185cm_std_distance = women_185\n",
        "women_145cm_std_distance = women_145\n",
        "\n",
        "print('A quantidade de desvios padrões distante da média de uma mulher de 185cm é: ', women_185cm_std_distance)\n",
        "print('A quantidade de desvios padrões distante da média de uma mulher de 145cm é: ', women_145cm_std_distance)\n",
        "\n",
        "q11.check()"
      ]
    },
    {
      "cell_type": "markdown",
      "metadata": {
        "id": "-UYhCR6h6N-k"
      },
      "source": [
        "## 12.\n",
        "É possível afirmar com determinado grau de confiança que uma pessoa com altura 150cm é um homem ou uma mulher?\n",
        "- E uma pessoa com altura 190cm?\n",
        "- E uma pessoa com altura 165cm?\n",
        "\n",
        "\n",
        "Esta questão não possui `check`.\n",
        "Mas você pode pedir dica com `q12.hint()`."
      ]
    },
    {
      "cell_type": "markdown",
      "metadata": {
        "id": "cwPzokLT6N-l"
      },
      "source": [
        "### Resposta:\n",
        "\n",
        "(escreva aqui sobre seu problema 12.)"
      ]
    },
    {
      "cell_type": "code",
      "execution_count": 60,
      "metadata": {
        "id": "yuarcBQW6N-l",
        "colab": {
          "base_uri": "https://localhost:8080/",
          "height": 83
        },
        "outputId": "935ab83c-02bc-41c5-f9ca-1d7cb5c5e024"
      },
      "outputs": [
        {
          "output_type": "display_data",
          "data": {
            "text/plain": [
              "<IPython.core.display.Javascript object>"
            ],
            "application/javascript": [
              "parent.postMessage({\"jupyterEvent\": \"custom.exercise_interaction\", \"data\": {\"interactionType\": 2, \"questionType\": 4, \"questionId\": \"12_Q12\", \"learnToolsVersion\": \"1.0.13\", \"valueTowardsCompletion\": 0.0, \"failureMessage\": \"\", \"exceptionClass\": \"\", \"trace\": \"\", \"outcomeType\": 4}}, \"*\")"
            ]
          },
          "metadata": {}
        },
        {
          "output_type": "display_data",
          "data": {
            "text/plain": [
              "Dica: Tente olhar para alguma métrica para embasar sua resposta"
            ],
            "text/markdown": "<span style=\"color:#3366cc\">Dica:</span> Tente olhar para alguma métrica para embasar sua resposta"
          },
          "metadata": {}
        },
        {
          "output_type": "stream",
          "name": "stdout",
          "text": [
            "0.7448979591836735\n",
            "0.2551020408163265\n"
          ]
        }
      ],
      "source": [
        "q12.hint()\n",
        "from scipy import stats\n",
        "\n",
        "women_150cm_percentile = stats.percentileofscore(women_height_series, 150)\n",
        "men_150cm_percentile = stats.percentileofscore(men_height_series, 150)\n",
        "women_150cm = women_150cm_percentile / 100 * len(women_height_series)\n",
        "men_150cm = men_150cm_percentile / 100 * len(men_height_series)\n",
        "total_150cm = women_150cm + men_150cm\n",
        "women_probability_150cm = women_150cm / total_150cm\n",
        "men_probability_150cm = men_150cm / total_150cm\n",
        "print(women_probability_150cm)\n",
        "print(men_probability_150cm)\n",
        "\n",
        "# O código calcula a porcentagem de homens e mulheres com altura menor ou igual\n",
        "# a 150cm. Primeiro ele calcula o percentil na faixa de 150cm para H e M. Depois,\n",
        "# calcula o numero real na base de dados de pessoas que estão nessa faixa. No final,\n",
        "# calcula a probabilidade de encontrar um homem ou mulher nessa faixa, dividindo\n",
        "# a quantidade de homens ou mulheres pelo total de pessoas com 150cm"
      ]
    },
    {
      "cell_type": "markdown",
      "metadata": {
        "id": "pIjaC7iX6N-l"
      },
      "source": [
        "## 13. As alturas dos homens e mulheres seguem uma distribuição Normal?\n",
        "Justifique a sua resposta com evidências.\n",
        "\n",
        "Esta questão não possui `check`.\n",
        "Mas você pode pedir dica com `q13.hint()`."
      ]
    },
    {
      "cell_type": "markdown",
      "metadata": {
        "id": "tK-zrYat6N-l"
      },
      "source": [
        "### Resposta:\n",
        "\n",
        "(escreva aqui sobre seu problema 13.)"
      ]
    },
    {
      "cell_type": "code",
      "execution_count": 61,
      "metadata": {
        "id": "vQwdE6_c6N-l",
        "colab": {
          "base_uri": "https://localhost:8080/",
          "height": 65
        },
        "outputId": "cf1a1bf9-ed92-4359-c670-a58394195e66"
      },
      "outputs": [
        {
          "output_type": "display_data",
          "data": {
            "text/plain": [
              "<IPython.core.display.Javascript object>"
            ],
            "application/javascript": [
              "parent.postMessage({\"jupyterEvent\": \"custom.exercise_interaction\", \"data\": {\"interactionType\": 2, \"questionType\": 4, \"questionId\": \"13_Q13\", \"learnToolsVersion\": \"1.0.13\", \"valueTowardsCompletion\": 0.0, \"failureMessage\": \"\", \"exceptionClass\": \"\", \"trace\": \"\", \"outcomeType\": 4}}, \"*\")"
            ]
          },
          "metadata": {}
        },
        {
          "output_type": "display_data",
          "data": {
            "text/plain": [
              "Dica: Use algum método de teste de normalidade. O mais simples pode ser o mais elegante!"
            ],
            "text/markdown": "<span style=\"color:#3366cc\">Dica:</span> Use algum método de teste de normalidade. O mais simples pode ser o mais elegante!"
          },
          "metadata": {}
        },
        {
          "output_type": "stream",
          "name": "stdout",
          "text": [
            "A distribuição é normal\n"
          ]
        }
      ],
      "source": [
        "q13.hint()\n",
        "\n",
        "from scipy.stats import normaltest\n",
        "\n",
        "stat, p = normaltest(men_height_series)\n",
        "\n",
        "if p < 0.05:\n",
        "  print(\"A distruibuição não é normal\")\n",
        "else:\n",
        "  print(\"A distribuição é normal\")"
      ]
    },
    {
      "cell_type": "markdown",
      "metadata": {
        "id": "-JAYWMS86N-m"
      },
      "source": [
        "## 14. Para que serve a função “describe()” de uma Series?\n",
        "Justifique a sua resposta com evidências.\n",
        "\n",
        "Esta questão não possui `check`.\n",
        "Mas você pode pedir dica com `q14.hint()`."
      ]
    },
    {
      "cell_type": "markdown",
      "metadata": {
        "id": "YBedgadj6N-m"
      },
      "source": [
        "### Resposta:\n",
        "\n",
        "(escreva aqui sobre seu problema 14.)"
      ]
    },
    {
      "cell_type": "code",
      "execution_count": 62,
      "metadata": {
        "id": "4wGK0w2q6N-m",
        "colab": {
          "base_uri": "https://localhost:8080/",
          "height": 212
        },
        "outputId": "2b900b09-aa19-4d0f-df95-42077859fb4b"
      },
      "outputs": [
        {
          "output_type": "display_data",
          "data": {
            "text/plain": [
              "<IPython.core.display.Javascript object>"
            ],
            "application/javascript": [
              "parent.postMessage({\"jupyterEvent\": \"custom.exercise_interaction\", \"data\": {\"interactionType\": 2, \"questionType\": 4, \"questionId\": \"14_Q14\", \"learnToolsVersion\": \"1.0.13\", \"valueTowardsCompletion\": 0.0, \"failureMessage\": \"\", \"exceptionClass\": \"\", \"trace\": \"\", \"outcomeType\": 4}}, \"*\")"
            ]
          },
          "metadata": {}
        },
        {
          "output_type": "display_data",
          "data": {
            "text/plain": [
              "Dica: Não vale copiar e colar da documentação, hein..."
            ],
            "text/markdown": "<span style=\"color:#3366cc\">Dica:</span> Não vale copiar e colar da documentação, hein..."
          },
          "metadata": {}
        },
        {
          "output_type": "stream",
          "name": "stdout",
          "text": [
            "count    1000.000000\n",
            "mean      175.058900\n",
            "std        15.325255\n",
            "min       120.050000\n",
            "25%       164.800000\n",
            "50%       174.575000\n",
            "75%       185.590000\n",
            "max       221.000000\n",
            "Name: 0, dtype: float64\n"
          ]
        }
      ],
      "source": [
        "q14.hint()\n",
        "\n",
        "print(men_height_series.describe())\n",
        "\n",
        "#Essa função produz de maneira rapida e eficiente dados estatisticos básicos\n",
        "#sobre os dados fornecidos. Ela informa dados como quantidade, média, desvio padrão\n",
        "# mínimo, máximo e também os quartis"
      ]
    },
    {
      "cell_type": "markdown",
      "metadata": {
        "id": "4ejAqiK26N-m"
      },
      "source": [
        "## 15. Para que serve a função \"unique()” de uma Series?\n",
        "Justifique a sua resposta com evidências.\n",
        "\n",
        "Esta questão não possui `check`.\n",
        "Mas você pode pedir dica com `q15.hint()`."
      ]
    },
    {
      "cell_type": "markdown",
      "metadata": {
        "id": "4kpaRk-m6N-m"
      },
      "source": [
        "### Resposta:\n",
        "\n",
        "(escreva aqui sobre seu problema 15.)"
      ]
    },
    {
      "cell_type": "code",
      "execution_count": 63,
      "metadata": {
        "id": "-XNk--_A6N-m",
        "colab": {
          "base_uri": "https://localhost:8080/"
        },
        "outputId": "3660df9f-6899-4508-d338-b341a00e22ff"
      },
      "outputs": [
        {
          "output_type": "stream",
          "name": "stdout",
          "text": [
            "910\n"
          ]
        }
      ],
      "source": [
        "# q15.hint()\n",
        "\n",
        "print(len(men_height_series.unique()))\n",
        "\n",
        "# Essa função faz um filtro de dados duplicados que podem de alguma forma interferir\n",
        "# na precisão dos dados. Ele retornará somente os dados com valores unicos"
      ]
    }
  ],
  "metadata": {
    "colab": {
      "provenance": []
    },
    "kernelspec": {
      "display_name": "Python 3",
      "language": "python",
      "name": "python3"
    },
    "language_info": {
      "codemirror_mode": {
        "name": "ipython",
        "version": 3
      },
      "file_extension": ".py",
      "mimetype": "text/x-python",
      "name": "python",
      "nbconvert_exporter": "python",
      "pygments_lexer": "ipython3",
      "version": "3.9.12"
    }
  },
  "nbformat": 4,
  "nbformat_minor": 0
}