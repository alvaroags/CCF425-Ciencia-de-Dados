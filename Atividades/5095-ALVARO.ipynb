{
  "cells": [
    {
      "cell_type": "markdown",
      "metadata": {
        "id": "v9b5EcQz_YB5"
      },
      "source": [
        "> Introdução à Ciência dos Dados \\\n",
        "> Ciência da Computação – UFV/Florestal\n",
        "\n",
        "\n",
        "* **Nome:** ALVARO GOMES\n",
        "* **Matrícula:**  5095\n",
        "\n",
        "# Aula Prática 01\n",
        "##  Conhecendo o Ambiente e Manipulando Estruturas de Uma Dimensão\n",
        "\n",
        "**Objetivo:** Conhecer o ambiente de desenvolvimento \\\n",
        "**Pré-requisitos:** Linguagem de programação Python \\\n",
        "**Meta:** Ao final da prática, o aluno será capaz de iniciar o ambiente de desenvolvimento e executar comandos na linguagem Python para manipular uma estrutura de dados de uma dimensão.\n",
        "\n",
        "----"
      ]
    },
    {
      "cell_type": "markdown",
      "metadata": {
        "id": "OVf4E3va_YB-"
      },
      "source": [
        "## Introdução\n",
        "\n",
        "A ferramenta de desenvolvimento a ser utilizada é chamada Jupyter Notebook. Com ela, é possível executar comandos para análises de dados isoladamente, sem precisar executar todo o código sempre que for preciso fazer algum ajuste. Você pode instalar localmente na sua máquina o [Jupyter Notebook](https://jupyter.org) ou utilizar o [Google Colab](https://colab.research.google.com).\n",
        "\n",
        "A principal API de desenvolvimento que será utilizada é chamada de [Pandas](https://pandas.pydata.org). Com ela, é possível manipular estruturas de dados complexas para análises de dados.\n",
        "\n",
        "Dentro da API Pandas, uma estrutura 1-dimensional é a Series. Uma Serie é similar a um arranjo nas linguagens de programação, com algumas características particulares que a torna mais poderosa que as estruturas de arranjos e listas tradicionais.\n",
        "\n",
        "Seguindo o roteiro abaixo, você deverá utilizar o Jupyter Notebook ou Google Colab para manipular algumas estruturas do tipo Series.\n",
        "\n",
        "Para instalar as ferramentas e as bibliotecas necessárias, você pode seguir o tutorial que está no PVANet.\n"
      ]
    },
    {
      "cell_type": "code",
      "source": [
        "### NÃO REMOVA ESSA CÉLULA! ####\n",
        "!pip install learntools_dados_ufv"
      ],
      "metadata": {
        "colab": {
          "base_uri": "https://localhost:8080/"
        },
        "id": "W09QN2cs_cQ_",
        "outputId": "e36980de-a9ed-4bce-ac82-a090835696b1"
      },
      "execution_count": 1,
      "outputs": [
        {
          "output_type": "stream",
          "name": "stdout",
          "text": [
            "Collecting learntools_dados_ufv\n",
            "  Downloading learntools_dados_ufv-1.0.13.tar.gz (29 kB)\n",
            "  Preparing metadata (setup.py) ... \u001b[?25l\u001b[?25hdone\n",
            "Building wheels for collected packages: learntools_dados_ufv\n",
            "  Building wheel for learntools_dados_ufv (setup.py) ... \u001b[?25l\u001b[?25hdone\n",
            "  Created wheel for learntools_dados_ufv: filename=learntools_dados_ufv-1.0.13-py3-none-any.whl size=38758 sha256=8328fc66dded899cde69e2224dd1d8075e2dd6538ad3cec54a8a3ed9cc4caeb4\n",
            "  Stored in directory: /root/.cache/pip/wheels/f9/37/eb/d79f8adde62548b2a4db6c9c36cab17c6871589d54e23c510e\n",
            "Successfully built learntools_dados_ufv\n",
            "Installing collected packages: learntools_dados_ufv\n",
            "Successfully installed learntools_dados_ufv-1.0.13\n"
          ]
        }
      ]
    },
    {
      "cell_type": "code",
      "execution_count": 2,
      "metadata": {
        "id": "_X9J3UPRX7_6"
      },
      "outputs": [],
      "source": [
        "#### Não altere essa célula!!! ####\n",
        "import pandas as pd\n",
        "import random\n",
        "\n",
        "from learntools_dados_ufv.core import binder; binder.bind(globals())\n",
        "from learntools_dados_ufv.ccf425.pratica_1 import *"
      ]
    },
    {
      "cell_type": "markdown",
      "metadata": {
        "id": "3LWiNtDCX7_7"
      },
      "source": [
        "## 1. Gere uma Serie com 500 valores inteiros aleatórios entre -1000 e 1000\n",
        "Armazene-o na variável `series`.\n",
        "\n",
        "Chame a função `q1.check()` no fim da célula para verificar a resposta.\n",
        "Você pode pedir dicas com `q1.hint()`"
      ]
    },
    {
      "cell_type": "code",
      "execution_count": 3,
      "metadata": {
        "id": "TxEmCjTx_YCB",
        "colab": {
          "base_uri": "https://localhost:8080/",
          "height": 255
        },
        "outputId": "a9be8b70-b7ff-43dd-fc23-4d797bf747c3"
      },
      "outputs": [
        {
          "output_type": "stream",
          "name": "stdout",
          "text": [
            "0     -797\n",
            "1     -692\n",
            "2     -200\n",
            "3      964\n",
            "4      181\n",
            "      ... \n",
            "495    585\n",
            "496     30\n",
            "497    956\n",
            "498   -441\n",
            "499   -149\n",
            "Length: 500, dtype: int64\n"
          ]
        },
        {
          "output_type": "display_data",
          "data": {
            "text/plain": [
              "<IPython.core.display.Javascript object>"
            ],
            "application/javascript": [
              "parent.postMessage({\"jupyterEvent\": \"custom.exercise_interaction\", \"data\": {\"outcomeType\": 1, \"valueTowardsCompletion\": 0.1, \"interactionType\": 1, \"questionType\": 2, \"questionId\": \"1_Q1\", \"learnToolsVersion\": \"1.0.13\", \"failureMessage\": \"\", \"exceptionClass\": \"\", \"trace\": \"\"}}, \"*\")"
            ]
          },
          "metadata": {}
        },
        {
          "output_type": "display_data",
          "data": {
            "text/plain": [
              "CORRETO: \n"
            ],
            "text/markdown": "<span style=\"color:#33cc33\">CORRETO:</span> \n\n"
          },
          "metadata": {}
        }
      ],
      "source": [
        "# q1.hint()\n",
        "\n",
        "series = pd.Series([random.randint(-1000, 1000) for _ in range(500)])\n",
        "print(series)\n",
        "\n",
        "q1.check()"
      ]
    },
    {
      "cell_type": "markdown",
      "metadata": {
        "id": "pp_1vrN-_YCB"
      },
      "source": [
        "## 2. Recupere o maior valor da Série\n",
        "Armazene-o na variável `series_max`.\n",
        "\n",
        "Chame a função `q2.check()` no fim da célula para verificar a resposta.\n",
        "Você pode pedir dicas com `q2.hint()`"
      ]
    },
    {
      "cell_type": "code",
      "execution_count": 5,
      "metadata": {
        "id": "oW9iunTR_YCC",
        "colab": {
          "base_uri": "https://localhost:8080/",
          "height": 64
        },
        "outputId": "13ac960e-9635-446c-c746-2fb5c26680aa"
      },
      "outputs": [
        {
          "output_type": "stream",
          "name": "stdout",
          "text": [
            "1000\n"
          ]
        },
        {
          "output_type": "display_data",
          "data": {
            "text/plain": [
              "<IPython.core.display.Javascript object>"
            ],
            "application/javascript": [
              "parent.postMessage({\"jupyterEvent\": \"custom.exercise_interaction\", \"data\": {\"outcomeType\": 1, \"valueTowardsCompletion\": 0.1, \"interactionType\": 1, \"questionType\": 2, \"questionId\": \"2_Q2\", \"learnToolsVersion\": \"1.0.13\", \"failureMessage\": \"\", \"exceptionClass\": \"\", \"trace\": \"\"}}, \"*\")"
            ]
          },
          "metadata": {}
        },
        {
          "output_type": "display_data",
          "data": {
            "text/plain": [
              "CORRETO: \n"
            ],
            "text/markdown": "<span style=\"color:#33cc33\">CORRETO:</span> \n\n"
          },
          "metadata": {}
        }
      ],
      "source": [
        "# q2.hint()\n",
        "\n",
        "series_max = int(series.max())\n",
        "print(series_max)\n",
        "\n",
        "q2.check()"
      ]
    },
    {
      "cell_type": "markdown",
      "metadata": {
        "id": "3VTP92eW_YCD"
      },
      "source": [
        "## 3. Recupere o menor valor da Série\n",
        "Armazene-o na variável `series_min`.\n",
        "\n",
        "Chame a função `q3.check()` no fim da célula para verificar a resposta.\n",
        "Você pode pedir dicas com `q3.hint()`"
      ]
    },
    {
      "cell_type": "code",
      "execution_count": 6,
      "metadata": {
        "id": "7FK2oejP_YCE",
        "colab": {
          "base_uri": "https://localhost:8080/",
          "height": 64
        },
        "outputId": "c908b44e-b2e1-4c4a-b558-d5828e22b677"
      },
      "outputs": [
        {
          "output_type": "stream",
          "name": "stdout",
          "text": [
            "-997\n"
          ]
        },
        {
          "output_type": "display_data",
          "data": {
            "text/plain": [
              "<IPython.core.display.Javascript object>"
            ],
            "application/javascript": [
              "parent.postMessage({\"jupyterEvent\": \"custom.exercise_interaction\", \"data\": {\"outcomeType\": 1, \"valueTowardsCompletion\": 0.1, \"interactionType\": 1, \"questionType\": 2, \"questionId\": \"3_Q3\", \"learnToolsVersion\": \"1.0.13\", \"failureMessage\": \"\", \"exceptionClass\": \"\", \"trace\": \"\"}}, \"*\")"
            ]
          },
          "metadata": {}
        },
        {
          "output_type": "display_data",
          "data": {
            "text/plain": [
              "CORRETO: \n"
            ],
            "text/markdown": "<span style=\"color:#33cc33\">CORRETO:</span> \n\n"
          },
          "metadata": {}
        }
      ],
      "source": [
        "# q3.hint()\n",
        "\n",
        "series_min = int(series.min())\n",
        "print(series_min)\n",
        "\n",
        "q3.check()"
      ]
    },
    {
      "cell_type": "markdown",
      "metadata": {
        "id": "zKImcTgi_YCF"
      },
      "source": [
        "## 4. Recupere somente os valores positivos da Série\n",
        "Armazene-os na variável `series_positives`.\n",
        "\n",
        "Chame a função `q4.check()` no fim da célula para verificar a resposta.\n",
        "Você pode pedir dicas com `q4.hint()`"
      ]
    },
    {
      "cell_type": "code",
      "execution_count": 7,
      "metadata": {
        "id": "Zq6yBor2_YCF",
        "colab": {
          "base_uri": "https://localhost:8080/",
          "height": 255
        },
        "outputId": "2fa3bb76-bfd6-4cb8-eb63-16e83610d6b4"
      },
      "outputs": [
        {
          "output_type": "stream",
          "name": "stdout",
          "text": [
            "3      964\n",
            "4      181\n",
            "5      183\n",
            "6      766\n",
            "7      922\n",
            "      ... \n",
            "492    985\n",
            "493    420\n",
            "495    585\n",
            "496     30\n",
            "497    956\n",
            "Length: 249, dtype: int64\n"
          ]
        },
        {
          "output_type": "display_data",
          "data": {
            "text/plain": [
              "<IPython.core.display.Javascript object>"
            ],
            "application/javascript": [
              "parent.postMessage({\"jupyterEvent\": \"custom.exercise_interaction\", \"data\": {\"outcomeType\": 1, \"valueTowardsCompletion\": 0.1, \"interactionType\": 1, \"questionType\": 2, \"questionId\": \"4_Q4\", \"learnToolsVersion\": \"1.0.13\", \"failureMessage\": \"\", \"exceptionClass\": \"\", \"trace\": \"\"}}, \"*\")"
            ]
          },
          "metadata": {}
        },
        {
          "output_type": "display_data",
          "data": {
            "text/plain": [
              "CORRETO: \n"
            ],
            "text/markdown": "<span style=\"color:#33cc33\">CORRETO:</span> \n\n"
          },
          "metadata": {}
        }
      ],
      "source": [
        "# q4.hint()\n",
        "\n",
        "series_positives = series.loc[series > 0]\n",
        "\n",
        "print(series_positives)\n",
        "\n",
        "q4.check()"
      ]
    },
    {
      "cell_type": "markdown",
      "metadata": {
        "id": "aZRr9TZL_YCG"
      },
      "source": [
        "## 5. Recupere somente os valores ímpares da Série\n",
        "Armazene-os na variável `series_odds`.\n",
        "\n",
        "Chame a função `q5.check()` no fim da célula para verificar a resposta.\n",
        "Você pode pedir dicas com `q5.hint()`"
      ]
    },
    {
      "cell_type": "code",
      "execution_count": 8,
      "metadata": {
        "id": "s5XgfoOv_YCG",
        "colab": {
          "base_uri": "https://localhost:8080/",
          "height": 255
        },
        "outputId": "aa634643-3fe1-4082-dede-480da104a0b0"
      },
      "outputs": [
        {
          "output_type": "stream",
          "name": "stdout",
          "text": [
            "0     -797\n",
            "4      181\n",
            "5      183\n",
            "11    -173\n",
            "12    -949\n",
            "      ... \n",
            "489    231\n",
            "492    985\n",
            "495    585\n",
            "498   -441\n",
            "499   -149\n",
            "Length: 239, dtype: int64\n"
          ]
        },
        {
          "output_type": "display_data",
          "data": {
            "text/plain": [
              "<IPython.core.display.Javascript object>"
            ],
            "application/javascript": [
              "parent.postMessage({\"jupyterEvent\": \"custom.exercise_interaction\", \"data\": {\"outcomeType\": 1, \"valueTowardsCompletion\": 0.1, \"interactionType\": 1, \"questionType\": 2, \"questionId\": \"5_Q5\", \"learnToolsVersion\": \"1.0.13\", \"failureMessage\": \"\", \"exceptionClass\": \"\", \"trace\": \"\"}}, \"*\")"
            ]
          },
          "metadata": {}
        },
        {
          "output_type": "display_data",
          "data": {
            "text/plain": [
              "CORRETO: \n"
            ],
            "text/markdown": "<span style=\"color:#33cc33\">CORRETO:</span> \n\n"
          },
          "metadata": {}
        }
      ],
      "source": [
        "# q5.hint()\n",
        "\n",
        "series_odds = series.loc[series % 2 != 0]\n",
        "\n",
        "print(series_odds)\n",
        "\n",
        "q5.check()"
      ]
    },
    {
      "cell_type": "markdown",
      "metadata": {
        "id": "KMz-69mj_YCH"
      },
      "source": [
        "## 6. Recupere somente os valores das posições/índices de 50 a 100 (inclusive) da Série\n",
        "Armazene-os na variável `series_range`.\n",
        "\n",
        "Chame a função `q6.check()` no fim da célula para verificar a resposta.\n",
        "Você pode pedir dicas com `q6.hint(n)` onde n é o número da dica."
      ]
    },
    {
      "cell_type": "code",
      "execution_count": 9,
      "metadata": {
        "id": "z4DhEQcl_YCH",
        "colab": {
          "base_uri": "https://localhost:8080/",
          "height": 949
        },
        "outputId": "0bdb1930-2088-4a30-f52b-94af2a7bf7ee"
      },
      "outputs": [
        {
          "output_type": "stream",
          "name": "stdout",
          "text": [
            "50     496\n",
            "51    -522\n",
            "52     520\n",
            "53     321\n",
            "54    -957\n",
            "55    -809\n",
            "56    -523\n",
            "57     -39\n",
            "58    -809\n",
            "59     544\n",
            "60    -846\n",
            "61     585\n",
            "62     158\n",
            "63     367\n",
            "64    -541\n",
            "65    -173\n",
            "66     -50\n",
            "67     128\n",
            "68    -140\n",
            "69    -287\n",
            "70     194\n",
            "71     372\n",
            "72    -242\n",
            "73    -578\n",
            "74    -201\n",
            "75    -885\n",
            "76      61\n",
            "77    -997\n",
            "78    -399\n",
            "79     961\n",
            "80    -978\n",
            "81     426\n",
            "82      10\n",
            "83    -764\n",
            "84     729\n",
            "85    -250\n",
            "86    -943\n",
            "87     225\n",
            "88    -564\n",
            "89    -661\n",
            "90     516\n",
            "91    -986\n",
            "92     736\n",
            "93     897\n",
            "94     457\n",
            "95    -716\n",
            "96     231\n",
            "97    -633\n",
            "98     108\n",
            "99    -302\n",
            "100   -147\n",
            "dtype: int64\n"
          ]
        },
        {
          "output_type": "display_data",
          "data": {
            "text/plain": [
              "<IPython.core.display.Javascript object>"
            ],
            "application/javascript": [
              "parent.postMessage({\"jupyterEvent\": \"custom.exercise_interaction\", \"data\": {\"outcomeType\": 1, \"valueTowardsCompletion\": 0.1, \"interactionType\": 1, \"questionType\": 2, \"questionId\": \"6_Q6\", \"learnToolsVersion\": \"1.0.13\", \"failureMessage\": \"\", \"exceptionClass\": \"\", \"trace\": \"\"}}, \"*\")"
            ]
          },
          "metadata": {}
        },
        {
          "output_type": "display_data",
          "data": {
            "text/plain": [
              "CORRETO"
            ],
            "text/markdown": "<span style=\"color:#33cc33\">CORRETO</span>"
          },
          "metadata": {}
        }
      ],
      "source": [
        "# q6.hint()\n",
        "\n",
        "series_range = series.iloc[50:101]\n",
        "print(series_range)\n",
        "\n",
        "q6.check()"
      ]
    },
    {
      "cell_type": "markdown",
      "metadata": {
        "id": "PUJQdeCM_YCH"
      },
      "source": [
        "## 7. Recupere a quantidade de valores pares da Série\n",
        "Armazene-o na variável `series_even_size`.\n",
        "\n",
        "Chame a função `q7.check()` no fim da célula para verificar a resposta.\n",
        "Você pode pedir dicas com `q7.hint(n)` onde n é o número da dica."
      ]
    },
    {
      "cell_type": "code",
      "execution_count": 11,
      "metadata": {
        "id": "I-8dk7HC_YCI",
        "colab": {
          "base_uri": "https://localhost:8080/",
          "height": 46
        },
        "outputId": "8e091235-d44f-41ff-82ab-7220308f2aa1"
      },
      "outputs": [
        {
          "output_type": "display_data",
          "data": {
            "text/plain": [
              "<IPython.core.display.Javascript object>"
            ],
            "application/javascript": [
              "parent.postMessage({\"jupyterEvent\": \"custom.exercise_interaction\", \"data\": {\"outcomeType\": 1, \"valueTowardsCompletion\": 0.1, \"interactionType\": 1, \"questionType\": 2, \"questionId\": \"7_Q7\", \"learnToolsVersion\": \"1.0.13\", \"failureMessage\": \"\", \"exceptionClass\": \"\", \"trace\": \"\"}}, \"*\")"
            ]
          },
          "metadata": {}
        },
        {
          "output_type": "display_data",
          "data": {
            "text/plain": [
              "CORRETO: \n"
            ],
            "text/markdown": "<span style=\"color:#33cc33\">CORRETO:</span> \n\n"
          },
          "metadata": {}
        }
      ],
      "source": [
        "# q7.hint()\n",
        "\n",
        "series_even = series.loc[series % 2 == 0]\n",
        "series_even_size = len(series_even)\n",
        "\n",
        "q7.check()"
      ]
    },
    {
      "cell_type": "markdown",
      "metadata": {
        "id": "Bong0Fb2_YCI"
      },
      "source": [
        "## 8. Recupere a quantidade de valores da Série maiores que 500\n",
        "Armazene-o na variável `series_high_values_size`.\n",
        "\n",
        "Chame a função `q8.check()` no fim da célula para verificar a resposta.\n",
        "Você pode pedir dicas com `q8.hint()` onde n é o número da dica."
      ]
    },
    {
      "cell_type": "code",
      "execution_count": 12,
      "metadata": {
        "id": "jRq5nWj5_YCI",
        "colab": {
          "base_uri": "https://localhost:8080/",
          "height": 46
        },
        "outputId": "250b000e-f11c-43b9-fd07-99c31a3dfbc5"
      },
      "outputs": [
        {
          "output_type": "display_data",
          "data": {
            "text/plain": [
              "<IPython.core.display.Javascript object>"
            ],
            "application/javascript": [
              "parent.postMessage({\"jupyterEvent\": \"custom.exercise_interaction\", \"data\": {\"outcomeType\": 1, \"valueTowardsCompletion\": 0.1, \"interactionType\": 1, \"questionType\": 2, \"questionId\": \"8_Q8\", \"learnToolsVersion\": \"1.0.13\", \"failureMessage\": \"\", \"exceptionClass\": \"\", \"trace\": \"\"}}, \"*\")"
            ]
          },
          "metadata": {}
        },
        {
          "output_type": "display_data",
          "data": {
            "text/plain": [
              "CORRETO: \n"
            ],
            "text/markdown": "<span style=\"color:#33cc33\">CORRETO:</span> \n\n"
          },
          "metadata": {}
        }
      ],
      "source": [
        "# q8.hint()\n",
        "\n",
        "series_high_values = series.loc[series > 500]\n",
        "series_high_values_size = len(series_high_values)\n",
        "\n",
        "q8.check()"
      ]
    },
    {
      "cell_type": "markdown",
      "metadata": {
        "id": "9fqTzqCr_YCJ"
      },
      "source": [
        "## 9. Recupere os valores simultaneamente maiores que 500 e menores que 700 da Série\n",
        "Armazene-o na variável `series_subset_values`.\n",
        "\n",
        "Chame a função `q9.check()` no fim da célula para verificar a resposta.\n",
        "Você pode pedir dicas com `q9.hint()` onde n é o número da dica."
      ]
    },
    {
      "cell_type": "code",
      "execution_count": 13,
      "metadata": {
        "id": "MTt9Txfh_YCJ",
        "colab": {
          "base_uri": "https://localhost:8080/",
          "height": 862
        },
        "outputId": "40686703-7d15-4100-a5b0-b6986b9e57a0"
      },
      "outputs": [
        {
          "output_type": "stream",
          "name": "stdout",
          "text": [
            "14     623\n",
            "16     648\n",
            "24     621\n",
            "25     640\n",
            "30     619\n",
            "41     656\n",
            "42     582\n",
            "52     520\n",
            "59     544\n",
            "61     585\n",
            "90     516\n",
            "120    527\n",
            "122    641\n",
            "123    606\n",
            "124    541\n",
            "141    501\n",
            "148    690\n",
            "160    509\n",
            "177    662\n",
            "208    652\n",
            "210    670\n",
            "234    502\n",
            "252    595\n",
            "265    576\n",
            "277    630\n",
            "284    661\n",
            "291    604\n",
            "293    571\n",
            "294    538\n",
            "303    645\n",
            "304    680\n",
            "331    693\n",
            "347    590\n",
            "348    537\n",
            "375    503\n",
            "379    570\n",
            "410    567\n",
            "411    587\n",
            "441    529\n",
            "458    641\n",
            "463    534\n",
            "470    617\n",
            "473    529\n",
            "483    531\n",
            "490    504\n",
            "495    585\n",
            "dtype: int64\n"
          ]
        },
        {
          "output_type": "display_data",
          "data": {
            "text/plain": [
              "<IPython.core.display.Javascript object>"
            ],
            "application/javascript": [
              "parent.postMessage({\"jupyterEvent\": \"custom.exercise_interaction\", \"data\": {\"outcomeType\": 1, \"valueTowardsCompletion\": 0.1, \"interactionType\": 1, \"questionType\": 2, \"questionId\": \"9_Q9\", \"learnToolsVersion\": \"1.0.13\", \"failureMessage\": \"\", \"exceptionClass\": \"\", \"trace\": \"\"}}, \"*\")"
            ]
          },
          "metadata": {}
        },
        {
          "output_type": "display_data",
          "data": {
            "text/plain": [
              "CORRETO: \n"
            ],
            "text/markdown": "<span style=\"color:#33cc33\">CORRETO:</span> \n\n"
          },
          "metadata": {}
        }
      ],
      "source": [
        "# q9.hint()\n",
        "\n",
        "series_subset_values = series.loc[(series > 500) & (series < 700)]\n",
        "print(series_subset_values)\n",
        "\n",
        "q9.check()"
      ]
    },
    {
      "cell_type": "markdown",
      "metadata": {
        "id": "1Dr2uCIC_YCJ"
      },
      "source": [
        "## 10. Imprima a raiz quadrada de todos os valores da Série\n",
        "Armazene-os na variável `series_sqrt_values`.\n",
        "\n",
        "**Atenção**: Mantenha o tipo da série como `float64`. Os valores inválidos devem ser `NaN`.\n",
        "\n",
        "Chame a função `q10.check()` no fim da célula para verificar a resposta.\n",
        "Você pode pedir dicas com `q10.hint()` onde n é o número da dica."
      ]
    },
    {
      "cell_type": "code",
      "execution_count": 17,
      "metadata": {
        "id": "W8J2Sjv2X7_7",
        "colab": {
          "base_uri": "https://localhost:8080/",
          "height": 255
        },
        "outputId": "4ad89431-e3c2-4add-8821-97e23a040cd1"
      },
      "outputs": [
        {
          "output_type": "stream",
          "name": "stdout",
          "text": [
            "0            NaN\n",
            "1            NaN\n",
            "2            NaN\n",
            "3      31.048349\n",
            "4      13.453624\n",
            "         ...    \n",
            "495    24.186773\n",
            "496     5.477226\n",
            "497    30.919250\n",
            "498          NaN\n",
            "499          NaN\n",
            "Length: 500, dtype: float64\n"
          ]
        },
        {
          "output_type": "display_data",
          "data": {
            "text/plain": [
              "<IPython.core.display.Javascript object>"
            ],
            "application/javascript": [
              "parent.postMessage({\"jupyterEvent\": \"custom.exercise_interaction\", \"data\": {\"outcomeType\": 1, \"valueTowardsCompletion\": 0.1, \"interactionType\": 1, \"questionType\": 2, \"questionId\": \"10_Q10\", \"learnToolsVersion\": \"1.0.13\", \"failureMessage\": \"\", \"exceptionClass\": \"\", \"trace\": \"\"}}, \"*\")"
            ]
          },
          "metadata": {}
        },
        {
          "output_type": "display_data",
          "data": {
            "text/plain": [
              "CORRETO: \n"
            ],
            "text/markdown": "<span style=\"color:#33cc33\">CORRETO:</span> \n\n"
          },
          "metadata": {}
        }
      ],
      "source": [
        "# q10.hint()\n",
        "import math\n",
        "\n",
        "series_sqrt_values = series.apply(lambda x: math.sqrt(x) if x >= 0 else None)\n",
        "\n",
        "print(series_sqrt_values)\n",
        "\n",
        "q10.check()"
      ]
    },
    {
      "cell_type": "markdown",
      "metadata": {
        "id": "Jd_q_zl5_YCK"
      },
      "source": [
        "## 11. Faça sua própria ~5ª~ série!\n",
        "\n",
        "Agora é sua vez de brincar com as séries. E bem não é *exatamente* a 5ª série, mas é quase!"
      ]
    },
    {
      "cell_type": "markdown",
      "metadata": {
        "id": "XbaVn97-_YCK"
      },
      "source": [
        "### 11.a.\n",
        "Crie uma série (`pd.Series`) que possui os dados das notas de **todas** as turmas de 5ª série de **todas as disciplinas** de uma escola fictícia. Dê um nome pra essa escola e explique quantas disciplinas essas turmas cursam e quantos alunos possuem em cada sala.\n",
        "\n",
        "Armazene a sua série na variável `grades`.\n",
        "\n",
        "Chame a função `q11.a.check()` no fim da célula para verificar a resposta.\n",
        "Você pode pedir dica com `q11.a.hint()`."
      ]
    },
    {
      "cell_type": "markdown",
      "metadata": {
        "id": "bw1CwZAr_YCK"
      },
      "source": [
        "#### Resposta:\n",
        "\n",
        "(escreva aqui sobre seu problema 11.a.)"
      ]
    },
    {
      "cell_type": "code",
      "execution_count": 31,
      "metadata": {
        "id": "x0v7n2tf_YCM",
        "colab": {
          "base_uri": "https://localhost:8080/",
          "height": 70
        },
        "outputId": "7a7ca707-26e8-4923-cf81-533443960a7a"
      },
      "outputs": [
        {
          "output_type": "display_data",
          "data": {
            "text/plain": [
              "<IPython.core.display.Javascript object>"
            ],
            "application/javascript": [
              "parent.postMessage({\"jupyterEvent\": \"custom.exercise_interaction\", \"data\": {\"interactionType\": 2, \"questionType\": 2, \"questionId\": \"11.1_Q11A\", \"learnToolsVersion\": \"1.0.13\", \"valueTowardsCompletion\": 0.0, \"failureMessage\": \"\", \"exceptionClass\": \"\", \"trace\": \"\", \"outcomeType\": 4}}, \"*\")"
            ]
          },
          "metadata": {}
        },
        {
          "output_type": "display_data",
          "data": {
            "text/plain": [
              "Dica: Utilize a função `pd.Series` com uma lista de números como argumento. A função `random.sample` pode ser útil..."
            ],
            "text/markdown": "<span style=\"color:#3366cc\">Dica:</span> Utilize a função `pd.Series` com uma lista de números como argumento. A função `random.sample` pode ser útil..."
          },
          "metadata": {}
        },
        {
          "output_type": "display_data",
          "data": {
            "text/plain": [
              "<IPython.core.display.Javascript object>"
            ],
            "application/javascript": [
              "parent.postMessage({\"jupyterEvent\": \"custom.exercise_interaction\", \"data\": {\"outcomeType\": 1, \"valueTowardsCompletion\": 0.1, \"interactionType\": 1, \"questionType\": 2, \"questionId\": \"11.1_Q11A\", \"learnToolsVersion\": \"1.0.13\", \"failureMessage\": \"\", \"exceptionClass\": \"\", \"trace\": \"\"}}, \"*\")"
            ]
          },
          "metadata": {}
        },
        {
          "output_type": "display_data",
          "data": {
            "text/plain": [
              "CORRETO: \n"
            ],
            "text/markdown": "<span style=\"color:#33cc33\">CORRETO:</span> \n\n"
          },
          "metadata": {}
        }
      ],
      "source": [
        "q11.a.hint()\n",
        "\n",
        "import numpy as np\n",
        "\n",
        "escola = \"UFV\"\n",
        "disciplinas = 5\n",
        "alunos_por_sala = 40\n",
        "\n",
        "notas = [random.sample(range(0, 101), alunos_por_sala) for _ in range(disciplinas)]\n",
        "notas = [pd.Series(notas) for notas in grades]\n",
        "\n",
        "grades = pd.Series(notas, index=[f\"Disciplina {i+1}\" for i in range(disciplinas)], name=escola)\n",
        "\n",
        "q11.a.check()"
      ]
    },
    {
      "cell_type": "markdown",
      "metadata": {
        "id": "B6tRkCai_YCN"
      },
      "source": [
        "### 11.b.\n",
        "Agora, usando a série `grades` que você criou, extraia 5 informações que podem ser úteis em uma reunião de pais, análise pedagócica, avaliações, etc.\n",
        "\n",
        "Esta questão não possui `check`.\n",
        "Mas você pode pedir dica com `q11.b.hint()`."
      ]
    },
    {
      "cell_type": "code",
      "execution_count": 46,
      "metadata": {
        "id": "C6muNafm_YCN",
        "colab": {
          "base_uri": "https://localhost:8080/",
          "height": 64
        },
        "outputId": "2b22e2f3-d580-4768-962e-fa4ab0b60449"
      },
      "outputs": [
        {
          "output_type": "display_data",
          "data": {
            "text/plain": [
              "<IPython.core.display.Javascript object>"
            ],
            "application/javascript": [
              "parent.postMessage({\"jupyterEvent\": \"custom.exercise_interaction\", \"data\": {\"interactionType\": 2, \"questionType\": 4, \"questionId\": \"11.2_Q11B\", \"learnToolsVersion\": \"1.0.13\", \"valueTowardsCompletion\": 0.0, \"failureMessage\": \"\", \"exceptionClass\": \"\", \"trace\": \"\", \"outcomeType\": 4}}, \"*\")"
            ]
          },
          "metadata": {}
        },
        {
          "output_type": "display_data",
          "data": {
            "text/plain": [
              "Dica: Que tal você olhar nos exercícios de 1 a 10? Pense como um pedagogo ou diretor da escola. Quais informações, mesmo que simples, você iria querer saber sobre seus alunos?"
            ],
            "text/markdown": "<span style=\"color:#3366cc\">Dica:</span> Que tal você olhar nos exercícios de 1 a 10? Pense como um pedagogo ou diretor da escola. Quais informações, mesmo que simples, você iria querer saber sobre seus alunos?"
          },
          "metadata": {}
        }
      ],
      "source": [
        "q11.b.hint()\n",
        "import math\n",
        "\n",
        "media_por_disciplina = pd.Series([notas.mean() for notas in grades], index=grades.index)\n",
        "nota_maxima_por_disciplina = pd.Series([notas.max() for notas in grades], index=grades.index)\n",
        "nota_minima_por_disciplina = pd.Series([notas.min() for notas in grades], index=grades.index)\n",
        "alunos_aprovados_por_disciplina = pd.Series([(notas > 60).sum() for notas in grades], index=grades.index)\n",
        "alunos_nao_aprovados_por_disciplina = pd.Series([(notas <= 60).sum() for notas in grades], index=grades.index)\n",
        "\n"
      ]
    },
    {
      "cell_type": "markdown",
      "metadata": {
        "id": "4mgJ4QyA_YCN"
      },
      "source": [
        "### 11.c.\n",
        "Faça uma breve análise sobre a utilidade e limitações de uma série `pandas`. Também inclua uma opinião pessoal curta se gostou ou não dessa estrutura.\n",
        "\n",
        "Esta questão não possui `check`.\n",
        "Mas você pode pedir dica com `q11.c.hint()`."
      ]
    },
    {
      "cell_type": "code",
      "execution_count": 49,
      "metadata": {
        "id": "FAEcBR4E_YCN",
        "colab": {
          "base_uri": "https://localhost:8080/"
        },
        "outputId": "79beba90-8a3c-402f-a46f-6dfbf9c32707"
      },
      "outputs": [
        {
          "output_type": "stream",
          "name": "stdout",
          "text": [
            "Uma série pandas é uma estrutura de dados unidimensional que permite armazenar e manipular dados de forma eficiente. Ela é especialmente útil para representar uma única variável ao longo de uma série de observações, facilitando análises exploratórias e operações em conjuntos de dados. As séries pandas oferecem indexação flexível e suporte a operações vetorizadas, tornando-as uma escolha popular para análise de dados em Python. No entanto, podem enfrentar limitações de desempenho em conjuntos de dados muito grandes e a manipulação de dados ausentes pode ser complicada em algumas situações. Apesar dessas limitações, as séries pandas são amplamente utilizadas e consideradas uma ferramenta valiosa para cientistas de dados e analistas.\n"
          ]
        }
      ],
      "source": [
        "# q11.c.hint()\n",
        "\n",
        "\n",
        "print(\"Uma série pandas é uma estrutura de dados unidimensional que permite armazenar e manipular dados de forma eficiente. Ela é especialmente útil para representar uma única variável ao longo de uma série de observações, facilitando análises exploratórias e operações em conjuntos de dados. As séries pandas oferecem indexação flexível e suporte a operações vetorizadas, tornando-as uma escolha popular para análise de dados em Python. No entanto, podem enfrentar limitações de desempenho em conjuntos de dados muito grandes e a manipulação de dados ausentes pode ser complicada em algumas situações. Apesar dessas limitações, as séries pandas são amplamente utilizadas e consideradas uma ferramenta valiosa para cientistas de dados e analistas.\")"
      ]
    },
    {
      "cell_type": "markdown",
      "metadata": {
        "id": "bgAImaFL_YCN"
      },
      "source": [
        "#### Resposta:\n",
        "\n",
        "(escreva aqui sobre seu problema 11.c.)"
      ]
    },
    {
      "cell_type": "markdown",
      "metadata": {
        "id": "-wN9Hq9X_YCO"
      },
      "source": []
    }
  ],
  "metadata": {
    "colab": {
      "provenance": []
    },
    "kernelspec": {
      "display_name": "Python 3",
      "language": "python",
      "name": "python3"
    },
    "language_info": {
      "codemirror_mode": {
        "name": "ipython",
        "version": 3
      },
      "file_extension": ".py",
      "mimetype": "text/x-python",
      "name": "python",
      "nbconvert_exporter": "python",
      "pygments_lexer": "ipython3",
      "version": "3.9.10"
    }
  },
  "nbformat": 4,
  "nbformat_minor": 0
}