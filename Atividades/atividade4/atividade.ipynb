{
 "cells": [
  {
   "cell_type": "code",
   "execution_count": 13,
   "metadata": {},
   "outputs": [
    {
     "name": "stdout",
     "output_type": "stream",
     "text": [
      "Defaulting to user installation because normal site-packages is not writeable\n",
      "Requirement already satisfied: pandas in /var/data/python/lib/python3.11/site-packages (2.2.1)\n",
      "Requirement already satisfied: numpy<2,>=1.23.2 in /var/data/python/lib/python3.11/site-packages (from pandas) (1.26.4)\n",
      "Requirement already satisfied: python-dateutil>=2.8.2 in /var/data/python/lib/python3.11/site-packages (from pandas) (2.9.0.post0)\n",
      "Requirement already satisfied: pytz>=2020.1 in /var/data/python/lib/python3.11/site-packages (from pandas) (2024.1)\n",
      "Requirement already satisfied: tzdata>=2022.7 in /var/data/python/lib/python3.11/site-packages (from pandas) (2024.1)\n",
      "Requirement already satisfied: six>=1.5 in /usr/lib/python3.11/site-packages (from python-dateutil>=2.8.2->pandas) (1.16.0)\n",
      "Defaulting to user installation because normal site-packages is not writeable\n",
      "Requirement already satisfied: scipy in /var/data/python/lib/python3.11/site-packages (1.12.0)\n",
      "Requirement already satisfied: numpy<1.29.0,>=1.22.4 in /var/data/python/lib/python3.11/site-packages (from scipy) (1.26.4)\n"
     ]
    }
   ],
   "source": [
    "!pip install pandas\n",
    "!pip install scipy\n",
    "import pandas as pd\n",
    "import math\n",
    "import numpy as np\n",
    "from scipy import stats"
   ]
  },
  {
   "cell_type": "code",
   "execution_count": 14,
   "metadata": {},
   "outputs": [],
   "source": [
    "df171 = pd.read_csv(\"atraso_ia171.csv\", header=None)\n",
    "df666 = pd.read_csv(\"atraso_ie666.csv\", header=None)"
   ]
  },
  {
   "cell_type": "code",
   "execution_count": 15,
   "metadata": {},
   "outputs": [],
   "source": [
    "mean171 = df171.mean()\n",
    "std171 = df171.std()\n",
    "count171 = df171.count()\n",
    "mean666 = df666.mean()\n",
    "std666 = df666.std()\n",
    "count666 = df666.count()"
   ]
  },
  {
   "cell_type": "code",
   "execution_count": 16,
   "metadata": {},
   "outputs": [
    {
     "name": "stdout",
     "output_type": "stream",
     "text": [
      "0    53.678568\n",
      "dtype: float64\n"
     ]
    },
    {
     "name": "stderr",
     "output_type": "stream",
     "text": [
      "/tmp/ipykernel_247/2091165030.py:1: FutureWarning: Calling float on a single element Series is deprecated and will raise a TypeError in the future. Use float(ser.iloc[0]) instead\n",
      "  err = (mean171 - mean666) / math.sqrt(((pow(std171,2)/count171) + (pow(std666,2)/count666)))\n"
     ]
    }
   ],
   "source": [
    "err = (mean171 - mean666) / math.sqrt(((pow(std171,2)/count171) + (pow(std666,2)/count666)))\n",
    "print(err)"
   ]
  },
  {
   "cell_type": "code",
   "execution_count": 17,
   "metadata": {},
   "outputs": [
    {
     "name": "stdout",
     "output_type": "stream",
     "text": [
      "[0.]\n"
     ]
    }
   ],
   "source": [
    "cdf = 1 - stats.norm.cdf(err)\n",
    "print(cdf)"
   ]
  },
  {
   "cell_type": "code",
   "execution_count": 18,
   "metadata": {},
   "outputs": [
    {
     "name": "stdout",
     "output_type": "stream",
     "text": [
      "0    167.815924\n",
      "dtype: float64\n"
     ]
    }
   ],
   "source": [
    "perc = (((mean171 / mean666) - 1 )* 100)\n",
    "print(perc)"
   ]
  },
  {
   "cell_type": "markdown",
   "metadata": {},
   "source": [
    "Para o teste de hipotese foi considerado o h0 como o protocoloca 171 sendo menor ou igual ao protocolo 666.\n",
    "Fazendo o teste de hipotese foi observado que 1 em um Bilhão de casos o 171 seria melhor. Portanto, assim\n",
    "é possível considerar que o protocolo 666 seja mais eficiente pelo menos 167% mais rápido"
   ]
  },
  {
   "cell_type": "code",
   "execution_count": 19,
   "metadata": {},
   "outputs": [],
   "source": [
    "combNar = pd.read_csv('tempo_combinar.csv', header=None)\n",
    "bitComb = pd.read_csv('tempo_bitcomb.csv', header=None)"
   ]
  },
  {
   "cell_type": "code",
   "execution_count": 20,
   "metadata": {},
   "outputs": [],
   "source": [
    "meanCombNar = combNar.mean()\n",
    "stdCombNar = combNar.std()\n",
    "countCombNar = combNar.count()\n",
    "meanBitComb = bitComb.mean()\n",
    "stdBitComb = bitComb.std()\n",
    "countBitComb = bitComb.count()"
   ]
  },
  {
   "cell_type": "code",
   "execution_count": 21,
   "metadata": {},
   "outputs": [
    {
     "name": "stdout",
     "output_type": "stream",
     "text": [
      "0    1.490695\n",
      "dtype: float64\n"
     ]
    },
    {
     "name": "stderr",
     "output_type": "stream",
     "text": [
      "/tmp/ipykernel_247/300035769.py:1: FutureWarning: Calling float on a single element Series is deprecated and will raise a TypeError in the future. Use float(ser.iloc[0]) instead\n",
      "  err = (meanCombNar - meanBitComb) / math.sqrt(((pow(stdCombNar,2)/countCombNar) + (pow(stdBitComb,2)/countBitComb)))\n"
     ]
    }
   ],
   "source": [
    "err = (meanCombNar - meanBitComb) / math.sqrt(((pow(stdCombNar,2)/countCombNar) + (pow(stdBitComb,2)/countBitComb)))\n",
    "print(err)"
   ]
  },
  {
   "cell_type": "code",
   "execution_count": 22,
   "metadata": {},
   "outputs": [
    {
     "name": "stdout",
     "output_type": "stream",
     "text": [
      "[0.06802085]\n"
     ]
    }
   ],
   "source": [
    "cdf = 1 - stats.norm.cdf(err)\n",
    "print(cdf)"
   ]
  },
  {
   "cell_type": "code",
   "execution_count": 23,
   "metadata": {},
   "outputs": [
    {
     "name": "stdout",
     "output_type": "stream",
     "text": [
      "0    9.119918\n",
      "dtype: float64\n"
     ]
    }
   ],
   "source": [
    "perc = (((meanCombNar / meanBitComb) - 1 ) * 100)\n",
    "print(perc)"
   ]
  },
  {
   "cell_type": "markdown",
   "metadata": {},
   "source": [
    "Para o teste de hipotese foi considerado como h0 a premissa de que CombNar é maior ou igual a BitComb. \n",
    "Realizando o teste foi observado que em cada 100 casos aproximadamente 6,8 fugiram da hipotese nula. \n",
    "Como foi definido uma confiabilidade de 95%, esse valor ultrapassa esse limite. Portanto, deve-se considerar\n",
    "que a hipotese nula seja verdadeira. Fazendo uma comparação relativa entre as médias, foi obse\n",
    "rvado que CombNar tem um tempo de 9.11% maior do que BitComb, então existe a possibilidade de serem iguais"
   ]
  }
 ],
 "metadata": {
  "kernelspec": {
   "display_name": "Python 3",
   "language": "python",
   "name": "python3"
  },
  "language_info": {
   "codemirror_mode": {
    "name": "ipython",
    "version": 3
   },
   "file_extension": ".py",
   "mimetype": "text/x-python",
   "name": "python",
   "nbconvert_exporter": "python",
   "pygments_lexer": "ipython3",
   "version": "3.11.8"
  }
 },
 "nbformat": 4,
 "nbformat_minor": 2
}
